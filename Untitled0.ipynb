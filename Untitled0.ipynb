{
  "nbformat": 4,
  "nbformat_minor": 0,
  "metadata": {
    "colab": {
      "name": "Untitled0.ipynb",
      "provenance": [],
      "authorship_tag": "ABX9TyPSSY8d8ySDNLjCI88A34r2",
      "include_colab_link": true
    },
    "kernelspec": {
      "name": "python3",
      "display_name": "Python 3"
    }
  },
  "cells": [
    {
      "cell_type": "markdown",
      "metadata": {
        "id": "view-in-github",
        "colab_type": "text"
      },
      "source": [
        "<a href=\"https://colab.research.google.com/github/Nicolas1909/PDI/blob/master/Untitled0.ipynb\" target=\"_parent\"><img src=\"https://colab.research.google.com/assets/colab-badge.svg\" alt=\"Open In Colab\"/></a>"
      ]
    },
    {
      "cell_type": "code",
      "metadata": {
        "id": "o9rtcxTFhezb",
        "colab_type": "code",
        "colab": {}
      },
      "source": [
        "#Conceptos básicos\n",
        "x=0 #Dar valor a una variable\n",
        "print(x) #Imprimir"
      ],
      "execution_count": 0,
      "outputs": []
    },
    {
      "cell_type": "code",
      "metadata": {
        "id": "-M1GB1_wlq3r",
        "colab_type": "code",
        "colab": {}
      },
      "source": [
        "#Conceptos básicos\n",
        "y=0.0 #Dar valor a una variable flotante\n",
        "print(y) #Imprimir"
      ],
      "execution_count": 0,
      "outputs": []
    },
    {
      "cell_type": "code",
      "metadata": {
        "id": "I0-vbZF7nMJT",
        "colab_type": "code",
        "colab": {}
      },
      "source": [
        "#Importar librerias\n",
        "import tensorflow\n",
        "import cv2"
      ],
      "execution_count": 0,
      "outputs": []
    },
    {
      "cell_type": "code",
      "metadata": {
        "id": "FYFzdP-Fnznp",
        "colab_type": "code",
        "colab": {}
      },
      "source": [
        "def suma (d,w):\n",
        "  return d+w\n",
        "\n",
        "suma(2,3)"
      ],
      "execution_count": 0,
      "outputs": []
    },
    {
      "cell_type": "code",
      "metadata": {
        "id": "rqXYXFosqcbq",
        "colab_type": "code",
        "colab": {}
      },
      "source": [
        "#Perimetro\n",
        "def perimetro (lado):\n",
        "  return lado*4\n",
        "\n",
        "perimetro(5)"
      ],
      "execution_count": 0,
      "outputs": []
    },
    {
      "cell_type": "code",
      "metadata": {
        "id": "kwnchQ7zt8oz",
        "colab_type": "code",
        "colab": {}
      },
      "source": [
        "#Area\n",
        "def area (lado):\n",
        "  return pow(lado,2)\n",
        "\n",
        "area(5)"
      ],
      "execution_count": 0,
      "outputs": []
    },
    {
      "cell_type": "code",
      "metadata": {
        "id": "9FwIt7Pnux4-",
        "colab_type": "code",
        "colab": {}
      },
      "source": [
        "#Cuadrado\n",
        "def cuadrado (perimetro,area):\n",
        "  return perimetro(lado), area(lado)\n",
        "\n",
        "cuadrado(perimetro,area)"
      ],
      "execution_count": 0,
      "outputs": []
    },
    {
      "cell_type": "code",
      "metadata": {
        "id": "bSb1XtUp3pvn",
        "colab_type": "code",
        "colab": {
          "base_uri": "https://localhost:8080/",
          "height": 34
        },
        "outputId": "f34eb0ff-9f96-4dac-f2cf-3eb2f265ba08"
      },
      "source": [
        "#Listas\n",
        "x=[5,10,15,20,25,30,35] #Crear una lista con 7 valores añadidos en 7 posiciones comenzando desde la posicion 0\n",
        "#x.append(8) #Añadir valor a la lista x en la ultima posicion\n",
        "#x.remove(8) #Eliminar valor x de la lista x, no elimina la posicion\n",
        "#x.del(1) #Eliminar la posicion 1 de la lista x\n",
        "print(x[3])"
      ],
      "execution_count": 83,
      "outputs": [
        {
          "output_type": "stream",
          "text": [
            "20\n"
          ],
          "name": "stdout"
        }
      ]
    }
  ]
}